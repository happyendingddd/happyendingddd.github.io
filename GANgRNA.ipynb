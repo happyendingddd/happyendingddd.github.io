{
  "nbformat": 4,
  "nbformat_minor": 0,
  "metadata": {
    "colab": {
      "name": "GANgRNA.ipynb",
      "provenance": [],
      "authorship_tag": "ABX9TyMebyR285YHnJ9VZbpOCd+v",
      "include_colab_link": true
    },
    "kernelspec": {
      "name": "python3",
      "display_name": "Python 3"
    },
    "language_info": {
      "name": "python"
    }
  },
  "cells": [
    {
      "cell_type": "markdown",
      "metadata": {
        "id": "view-in-github",
        "colab_type": "text"
      },
      "source": [
        "<a href=\"https://colab.research.google.com/github/happyendingddd/happyendingddd.github.io/blob/master/GANgRNA.ipynb\" target=\"_parent\"><img src=\"https://colab.research.google.com/assets/colab-badge.svg\" alt=\"Open In Colab\"/></a>"
      ]
    },
    {
      "cell_type": "markdown",
      "metadata": {
        "id": "EQAb_cwXdHmo"
      },
      "source": [
        "### Import TensorFlow and other libraries"
      ]
    },
    {
      "cell_type": "code",
      "metadata": {
        "id": "J-wD6Zz8awlZ"
      },
      "source": [
        "import tensorflow as tf"
      ],
      "execution_count": 1,
      "outputs": []
    },
    {
      "cell_type": "code",
      "metadata": {
        "colab": {
          "base_uri": "https://localhost:8080/",
          "height": 35
        },
        "id": "oho-FXYLa9vR",
        "outputId": "639a883c-2ef6-4b6f-e08e-da21a679fdee"
      },
      "source": [
        "tf.__version__"
      ],
      "execution_count": 2,
      "outputs": [
        {
          "output_type": "execute_result",
          "data": {
            "application/vnd.google.colaboratory.intrinsic+json": {
              "type": "string"
            },
            "text/plain": [
              "'2.4.1'"
            ]
          },
          "metadata": {
            "tags": []
          },
          "execution_count": 2
        }
      ]
    },
    {
      "cell_type": "code",
      "metadata": {
        "id": "t-sMTn1ca90t"
      },
      "source": [
        "import glob\n",
        "import numpy as np\n",
        "from tensorflow.keras import layers\n",
        "import matplotlib.pyplot as plt\n",
        "import time"
      ],
      "execution_count": 3,
      "outputs": []
    },
    {
      "cell_type": "markdown",
      "metadata": {
        "id": "jqAFi7cNdy8o"
      },
      "source": [
        "### 加载和准备数据集"
      ]
    },
    {
      "cell_type": "code",
      "metadata": {
        "id": "cYug3XvcbvaS"
      },
      "source": [
        "train_gRNA="
      ],
      "execution_count": null,
      "outputs": []
    },
    {
      "cell_type": "markdown",
      "metadata": {
        "id": "0UZnG4-bfWdm"
      },
      "source": [
        "### 生成器"
      ]
    },
    {
      "cell_type": "code",
      "metadata": {
        "id": "ZJCVzNGqfW3-"
      },
      "source": [
        "def make_generator_model():\n",
        "    model = tf.keras.Sequential()\n",
        "    model.add(layers.Dense(7*7*256, use_bias=False, input_shape=(100,)))\n",
        "    model.add(layers.BatchNormalization())\n",
        "    model.add(layers.LeakyReLU())\n",
        "\n",
        "    model.add(layers.Reshape((7, 7, 256)))\n",
        "    assert model.output_shape == (None, 7, 7, 256) # 注意：batch size 没有限制\n",
        "\n",
        "    model.add(layers.Conv2DTranspose(128, (5, 5), strides=(1, 1), padding='same', use_bias=False))\n",
        "    assert model.output_shape == (None, 7, 7, 128)\n",
        "    model.add(layers.BatchNormalization())\n",
        "    model.add(layers.LeakyReLU())\n",
        "\n",
        "    model.add(layers.Conv2DTranspose(64, (5, 5), strides=(2, 2), padding='same', use_bias=False))\n",
        "    assert model.output_shape == (None, 14, 14, 64)\n",
        "    model.add(layers.BatchNormalization())\n",
        "    model.add(layers.LeakyReLU())\n",
        "\n",
        "    model.add(layers.Conv2DTranspose(1, (5, 5), strides=(2, 2), padding='same', use_bias=False, activation='tanh'))\n",
        "    assert model.output_shape == (None, 28, 28, 1)\n",
        "\n",
        "    return model"
      ],
      "execution_count": null,
      "outputs": []
    },
    {
      "cell_type": "markdown",
      "metadata": {
        "id": "3zOPmLXRfkcm"
      },
      "source": [
        "#### 使用（尚未训练的）生成器创建一条gRNA序列"
      ]
    },
    {
      "cell_type": "code",
      "metadata": {
        "id": "ntnLLwP0fdoW"
      },
      "source": [
        "generator = make_generator_model()\n",
        "\n",
        "noise = tf.random.normal([1, 100])\n",
        "generated_gRNA = generator(noise, training=False)"
      ],
      "execution_count": null,
      "outputs": []
    },
    {
      "cell_type": "code",
      "metadata": {
        "colab": {
          "base_uri": "https://localhost:8080/"
        },
        "id": "dtr6W6HqEgwx",
        "outputId": "eec630aa-ef96-48cb-e250-5b096d420afc"
      },
      "source": [
        "a = ['A','T','C','G']\n",
        "from sklearn.preprocessing import LabelBinarizer\n",
        "encoder = LabelBinarizer()\n",
        "one_hot = encoder.fit_transform(a)\n",
        "print(one_hot)"
      ],
      "execution_count": 3,
      "outputs": [
        {
          "output_type": "stream",
          "text": [
            "[[1 0 0 0]\n",
            " [0 0 0 1]\n",
            " [0 1 0 0]\n",
            " [0 0 1 0]]\n"
          ],
          "name": "stdout"
        }
      ]
    },
    {
      "cell_type": "code",
      "metadata": {
        "id": "RHFmncH9FylE"
      },
      "source": [
        "def dense_to_one_hot(labels_dense, num_classes):\n",
        "   \"\"\"Convert class labels from scalars to one-hot vectors.\"\"\"\n",
        "   num_labels = labels_dense.shape[0]\n",
        "   index_offset = np.arange(num_labels) * num_classes\n",
        "   labels_one_hot = np.zeros((num_labels, num_classes))\n",
        "   labels_one_hot.flat[index_offset + labels_dense.ravel()] = 1\n",
        "   return labels_one_hot"
      ],
      "execution_count": 4,
      "outputs": []
    },
    {
      "cell_type": "code",
      "metadata": {
        "id": "j5Qw4o99F1W5"
      },
      "source": [
        "labels_dense=['A','T','C','G']\n",
        "num_classes=[]\n",
        "labels_one_hot=dense_to_one_hot()"
      ],
      "execution_count": null,
      "outputs": []
    },
    {
      "cell_type": "code",
      "metadata": {
        "colab": {
          "base_uri": "https://localhost:8080/"
        },
        "id": "u6Ax5C-oLaa3",
        "outputId": "e058459c-9a0c-41f4-e975-26db882b1d32"
      },
      "source": [
        " \n",
        "class Parent:        # 定义父类\n",
        "   def myMethod(self):\n",
        "      print('调用父类方法')\n",
        " \n",
        "class Child(Parent): # 定义子类\n",
        "   def myMethod(self):\n",
        "      print('调用子类方法')\n",
        " \n",
        "c = Child()          # 子类实例\n",
        "c.myMethod()         # 子类调用重写方法"
      ],
      "execution_count": 6,
      "outputs": [
        {
          "output_type": "stream",
          "text": [
            "调用子类方法\n"
          ],
          "name": "stdout"
        }
      ]
    }
  ]
}